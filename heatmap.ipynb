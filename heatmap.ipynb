{
 "cells": [
  {
   "cell_type": "code",
   "execution_count": 1,
   "id": "49355382-67b3-4703-8f8f-a9b32167ae86",
   "metadata": {},
   "outputs": [],
   "source": [
    "import pandas as pd\n",
    "import seaborn as sns\n",
    "import numpy as np"
   ]
  },
  {
   "cell_type": "code",
   "execution_count": 2,
   "id": "dfc8208b-d731-4b7e-b8c3-3f4c455ec7e8",
   "metadata": {},
   "outputs": [],
   "source": [
    "df = pd.read_excel(\"C:/Users/Zehra/Desktop/powerbi/satış_verileri.xlsx\")"
   ]
  },
  {
   "cell_type": "code",
   "execution_count": 3,
   "id": "408d9dfd-a32f-4805-9740-b1ddf89be501",
   "metadata": {},
   "outputs": [
    {
     "data": {
      "text/html": [
       "<div>\n",
       "<style scoped>\n",
       "    .dataframe tbody tr th:only-of-type {\n",
       "        vertical-align: middle;\n",
       "    }\n",
       "\n",
       "    .dataframe tbody tr th {\n",
       "        vertical-align: top;\n",
       "    }\n",
       "\n",
       "    .dataframe thead th {\n",
       "        text-align: right;\n",
       "    }\n",
       "</style>\n",
       "<table border=\"1\" class=\"dataframe\">\n",
       "  <thead>\n",
       "    <tr style=\"text-align: right;\">\n",
       "      <th></th>\n",
       "      <th>Tarih</th>\n",
       "      <th>Satış</th>\n",
       "      <th>Personel</th>\n",
       "    </tr>\n",
       "  </thead>\n",
       "  <tbody>\n",
       "    <tr>\n",
       "      <th>0</th>\n",
       "      <td>2010-01-01</td>\n",
       "      <td>37178.0</td>\n",
       "      <td>160</td>\n",
       "    </tr>\n",
       "    <tr>\n",
       "      <th>1</th>\n",
       "      <td>2010-02-01</td>\n",
       "      <td>43042.3</td>\n",
       "      <td>164</td>\n",
       "    </tr>\n",
       "    <tr>\n",
       "      <th>2</th>\n",
       "      <td>2010-03-01</td>\n",
       "      <td>49223.8</td>\n",
       "      <td>155</td>\n",
       "    </tr>\n",
       "    <tr>\n",
       "      <th>3</th>\n",
       "      <td>2010-04-01</td>\n",
       "      <td>36105.5</td>\n",
       "      <td>163</td>\n",
       "    </tr>\n",
       "    <tr>\n",
       "      <th>4</th>\n",
       "      <td>2010-05-01</td>\n",
       "      <td>41360.5</td>\n",
       "      <td>155</td>\n",
       "    </tr>\n",
       "  </tbody>\n",
       "</table>\n",
       "</div>"
      ],
      "text/plain": [
       "       Tarih    Satış  Personel\n",
       "0 2010-01-01  37178.0       160\n",
       "1 2010-02-01  43042.3       164\n",
       "2 2010-03-01  49223.8       155\n",
       "3 2010-04-01  36105.5       163\n",
       "4 2010-05-01  41360.5       155"
      ]
     },
     "execution_count": 3,
     "metadata": {},
     "output_type": "execute_result"
    }
   ],
   "source": [
    "df.head()"
   ]
  },
  {
   "cell_type": "code",
   "execution_count": 4,
   "id": "9afc25d7-0264-4b49-9a89-2768dfb1cb63",
   "metadata": {},
   "outputs": [
    {
     "data": {
      "text/html": [
       "<div>\n",
       "<style scoped>\n",
       "    .dataframe tbody tr th:only-of-type {\n",
       "        vertical-align: middle;\n",
       "    }\n",
       "\n",
       "    .dataframe tbody tr th {\n",
       "        vertical-align: top;\n",
       "    }\n",
       "\n",
       "    .dataframe thead th {\n",
       "        text-align: right;\n",
       "    }\n",
       "</style>\n",
       "<table border=\"1\" class=\"dataframe\">\n",
       "  <thead>\n",
       "    <tr style=\"text-align: right;\">\n",
       "      <th></th>\n",
       "      <th>Tarih</th>\n",
       "      <th>Satış</th>\n",
       "      <th>Personel</th>\n",
       "      <th>month</th>\n",
       "      <th>year</th>\n",
       "    </tr>\n",
       "  </thead>\n",
       "  <tbody>\n",
       "    <tr>\n",
       "      <th>0</th>\n",
       "      <td>2010-01-01</td>\n",
       "      <td>37178.0</td>\n",
       "      <td>160</td>\n",
       "      <td>1</td>\n",
       "      <td>2010</td>\n",
       "    </tr>\n",
       "    <tr>\n",
       "      <th>1</th>\n",
       "      <td>2010-02-01</td>\n",
       "      <td>43042.3</td>\n",
       "      <td>164</td>\n",
       "      <td>2</td>\n",
       "      <td>2010</td>\n",
       "    </tr>\n",
       "  </tbody>\n",
       "</table>\n",
       "</div>"
      ],
      "text/plain": [
       "       Tarih    Satış  Personel  month  year\n",
       "0 2010-01-01  37178.0       160      1  2010\n",
       "1 2010-02-01  43042.3       164      2  2010"
      ]
     },
     "execution_count": 4,
     "metadata": {},
     "output_type": "execute_result"
    }
   ],
   "source": [
    "df[\"month\"] = df.Tarih.dt.month\n",
    "df[\"year\"] = df.Tarih.dt.year\n",
    "df.head(2)"
   ]
  },
  {
   "cell_type": "code",
   "execution_count": 8,
   "id": "97353be3-212b-4568-b766-eee174ae2bce",
   "metadata": {},
   "outputs": [],
   "source": [
    "df.loc[df.month == 1, \"month\"]= \"Ocak\"\n",
    "df.loc[df.month == 2, \"month\"]= \"Şubat\"\n",
    "df.loc[df.month == 3, \"month\"]= \"Mart\"\n",
    "df.loc[df.month == 4, \"month\"]= \"Nisan\"\n",
    "df.loc[df.month == 5, \"month\"]= \"Mayıs\"\n",
    "df.loc[df.month == 6, \"month\"]= \"Haziran\"\n",
    "df.loc[df.month == 7, \"month\"]= \"Temmuz\"\n",
    "df.loc[df.month == 8, \"month\"]= \"Ağustos\"\n",
    "df.loc[df.month == 9, \"month\"]= \"Eylül\"\n",
    "df.loc[df.month == 10, \"month\"]= \"Ekim\"\n",
    "df.loc[df.month == 11, \"month\"]= \"Kasım\"\n",
    "df.loc[df.month == 12, \"month\"]= \"Aralık\""
   ]
  },
  {
   "cell_type": "code",
   "execution_count": 11,
   "id": "43a41cd9-d806-4583-8999-1e95c5d3bca6",
   "metadata": {},
   "outputs": [
    {
     "data": {
      "text/html": [
       "<div>\n",
       "<style scoped>\n",
       "    .dataframe tbody tr th:only-of-type {\n",
       "        vertical-align: middle;\n",
       "    }\n",
       "\n",
       "    .dataframe tbody tr th {\n",
       "        vertical-align: top;\n",
       "    }\n",
       "\n",
       "    .dataframe thead th {\n",
       "        text-align: right;\n",
       "    }\n",
       "</style>\n",
       "<table border=\"1\" class=\"dataframe\">\n",
       "  <thead>\n",
       "    <tr style=\"text-align: right;\">\n",
       "      <th></th>\n",
       "      <th>Satış</th>\n",
       "      <th>Personel</th>\n",
       "      <th>month</th>\n",
       "      <th>year</th>\n",
       "    </tr>\n",
       "  </thead>\n",
       "  <tbody>\n",
       "    <tr>\n",
       "      <th>0</th>\n",
       "      <td>37178.0</td>\n",
       "      <td>160</td>\n",
       "      <td>Ocak</td>\n",
       "      <td>2010</td>\n",
       "    </tr>\n",
       "    <tr>\n",
       "      <th>1</th>\n",
       "      <td>43042.3</td>\n",
       "      <td>164</td>\n",
       "      <td>Şubat</td>\n",
       "      <td>2010</td>\n",
       "    </tr>\n",
       "    <tr>\n",
       "      <th>2</th>\n",
       "      <td>49223.8</td>\n",
       "      <td>155</td>\n",
       "      <td>Mart</td>\n",
       "      <td>2010</td>\n",
       "    </tr>\n",
       "    <tr>\n",
       "      <th>3</th>\n",
       "      <td>36105.5</td>\n",
       "      <td>163</td>\n",
       "      <td>Nisan</td>\n",
       "      <td>2010</td>\n",
       "    </tr>\n",
       "    <tr>\n",
       "      <th>4</th>\n",
       "      <td>41360.5</td>\n",
       "      <td>155</td>\n",
       "      <td>Mayıs</td>\n",
       "      <td>2010</td>\n",
       "    </tr>\n",
       "  </tbody>\n",
       "</table>\n",
       "</div>"
      ],
      "text/plain": [
       "     Satış  Personel  month  year\n",
       "0  37178.0       160   Ocak  2010\n",
       "1  43042.3       164  Şubat  2010\n",
       "2  49223.8       155   Mart  2010\n",
       "3  36105.5       163  Nisan  2010\n",
       "4  41360.5       155  Mayıs  2010"
      ]
     },
     "execution_count": 11,
     "metadata": {},
     "output_type": "execute_result"
    }
   ],
   "source": [
    "df.head()"
   ]
  },
  {
   "cell_type": "code",
   "execution_count": 10,
   "id": "b72574c0-73fe-4228-849b-317269cadd27",
   "metadata": {},
   "outputs": [],
   "source": [
    "df.drop(\"Tarih\", axis=1, inplace=True)"
   ]
  },
  {
   "cell_type": "code",
   "execution_count": 13,
   "id": "5957f8e2-7e17-47e5-b01a-a731b7561841",
   "metadata": {},
   "outputs": [],
   "source": [
    "df = df.pivot(\"month\", \"year\", \"Satış\");"
   ]
  },
  {
   "cell_type": "code",
   "execution_count": 14,
   "id": "afde86a1-7e22-4683-8ed0-fb4b65ee3895",
   "metadata": {},
   "outputs": [
    {
     "data": {
      "image/png": "[encoded data removed]",
      "text/plain": [
       "<Figure size 432x288 with 2 Axes>"
      ]
     },
     "metadata": {
      "needs_background": "light"
     },
     "output_type": "display_data"
    }
   ],
   "source": [
    "sns.heatmap(df);"
   ]
  },
  {
   "cell_type": "code",
   "execution_count": null,
   "id": "19e8ee4a-5bfa-4ad2-97c1-9391118d2545",
   "metadata": {},
   "outputs": [],
   "source": []
  }
 ],
 "metadata": {
  "kernelspec": {
   "display_name": "Python 3",
   "language": "python",
   "name": "python3"
  },
  "language_info": {
   "codemirror_mode": {
    "name": "ipython",
    "version": 3
   },
   "file_extension": ".py",
   "mimetype": "text/x-python",
   "name": "python",
   "nbconvert_exporter": "python",
   "pygments_lexer": "ipython3",
   "version": "3.8.8"
  }
 },
 "nbformat": 4,
 "nbformat_minor": 5
}
